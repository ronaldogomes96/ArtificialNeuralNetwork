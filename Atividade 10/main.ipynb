{
 "cells": [
  {
   "cell_type": "code",
   "execution_count": 1,
   "id": "f808278e-1e74-45eb-b335-ef0a81a6347a",
   "metadata": {},
   "outputs": [],
   "source": [
    "from ELM import ELM\n",
    "import numpy as np"
   ]
  },
  {
   "cell_type": "code",
   "execution_count": 2,
   "id": "6083a6d4-395b-415c-9935-d88728858f0a",
   "metadata": {},
   "outputs": [],
   "source": [
    "x = np.array([[0, 0],\n",
    "              [0, 1],\n",
    "              [1, 0],\n",
    "              [1, 1]])\n",
    "y_and = np.array([0, 0, 0, 1])\n",
    "y_xor = np.array([0, 1, 1, 0])\n",
    "inputs01 = np.array([[1, 1, 1],\n",
    "                   [0, 1, 1],\n",
    "                   [1, 0, 1],\n",
    "                   [1, 1, 0],\n",
    "                   [0, 0, 1],\n",
    "                   [0, 1, 0],\n",
    "                   [1, 0, 0],\n",
    "                   [0, 0, 0]])\n",
    "outputs01 = np.array([1, 1, 1, 1, 1, 1, 1, 0])"
   ]
  },
  {
   "cell_type": "markdown",
   "id": "3d3296d2-4071-42b0-bde3-410abfed4470",
   "metadata": {},
   "source": [
    "# Atividade 10\n",
    "\n",
    "## 1 - Implemente a RNA ELM com as seguintes saídas e entradas? \n",
    "## Entradas: [1 1 1; 0 1 1; 1 0 1; 1 1 0; 0 0 1; 0 1 0; 1 0 0; 0 0 0 ].\n",
    "## Saída: [1; 1; 1; 1; 1; 1; 1; 0]."
   ]
  },
  {
   "cell_type": "code",
   "execution_count": 3,
   "id": "dae2de01-4f66-4657-8951-88b2a32dfe75",
   "metadata": {},
   "outputs": [
    {
     "data": {
      "text/plain": [
       "1.0"
      ]
     },
     "execution_count": 3,
     "metadata": {},
     "output_type": "execute_result"
    }
   ],
   "source": [
    "elm_1 = ELM()\n",
    "elm_1.fit(inputs01, outputs01)\n",
    "elm_1.predict(np.array([1, 1, 0]))"
   ]
  },
  {
   "cell_type": "code",
   "execution_count": 4,
   "id": "4e81c5ea-0fa9-4c98-beed-7e194a4eca42",
   "metadata": {},
   "outputs": [
    {
     "data": {
      "text/plain": [
       "-0.0"
      ]
     },
     "execution_count": 4,
     "metadata": {},
     "output_type": "execute_result"
    }
   ],
   "source": [
    "elm_1.predict(np.array([0, 0, 0]))"
   ]
  },
  {
   "cell_type": "markdown",
   "id": "890eae8b-dfe4-4a1d-ab9b-310fa87d2141",
   "metadata": {},
   "source": [
    "## 2 - Implemente a RNA ELM para a porta AND com duas entradas e uma saída?"
   ]
  },
  {
   "cell_type": "code",
   "execution_count": 5,
   "id": "56c907cd-bd5b-45b9-b3d5-249a690c9880",
   "metadata": {},
   "outputs": [
    {
     "data": {
      "text/plain": [
       "1.0"
      ]
     },
     "execution_count": 5,
     "metadata": {},
     "output_type": "execute_result"
    }
   ],
   "source": [
    "elm_and = ELM()\n",
    "elm_and.fit(x, y_and)\n",
    "elm_and.predict(np.array([1,1]))"
   ]
  },
  {
   "cell_type": "code",
   "execution_count": 6,
   "id": "2fabb413-32be-416a-97f6-3ad2f6abf8f5",
   "metadata": {},
   "outputs": [
    {
     "data": {
      "text/plain": [
       "0.0"
      ]
     },
     "execution_count": 6,
     "metadata": {},
     "output_type": "execute_result"
    }
   ],
   "source": [
    "elm_and.predict(np.array([0,1]))"
   ]
  },
  {
   "cell_type": "code",
   "execution_count": 7,
   "id": "ce8c34ce-2dd6-470d-a8e8-b0a6d9fc8bde",
   "metadata": {},
   "outputs": [
    {
     "data": {
      "text/plain": [
       "-0.0"
      ]
     },
     "execution_count": 7,
     "metadata": {},
     "output_type": "execute_result"
    }
   ],
   "source": [
    "elm_and.predict(np.array([0,0]))"
   ]
  },
  {
   "cell_type": "markdown",
   "id": "e581f487-6b93-44d2-a6da-030a6ae81463",
   "metadata": {},
   "source": [
    "## 3 - Implemente a RNA ELM para a porta XOR com duas entradas e uma saída?"
   ]
  },
  {
   "cell_type": "code",
   "execution_count": 8,
   "id": "fc54dda5-1c39-4468-bcd8-b999ecbd437d",
   "metadata": {},
   "outputs": [
    {
     "data": {
      "text/plain": [
       "-0.0"
      ]
     },
     "execution_count": 8,
     "metadata": {},
     "output_type": "execute_result"
    }
   ],
   "source": [
    "elm_xor = ELM()\n",
    "elm_xor.fit(x, y_xor)\n",
    "elm_xor.predict(np.array([1,1]))"
   ]
  },
  {
   "cell_type": "code",
   "execution_count": 9,
   "id": "8ba94683-d221-4b8f-9323-fa0b4b52ac71",
   "metadata": {},
   "outputs": [
    {
     "data": {
      "text/plain": [
       "1.0"
      ]
     },
     "execution_count": 9,
     "metadata": {},
     "output_type": "execute_result"
    }
   ],
   "source": [
    "elm_xor.predict(np.array([0,1]))"
   ]
  },
  {
   "cell_type": "code",
   "execution_count": 10,
   "id": "cd6325a4-98f7-41e3-9003-af950d1c2dad",
   "metadata": {},
   "outputs": [
    {
     "data": {
      "text/plain": [
       "1.0"
      ]
     },
     "execution_count": 10,
     "metadata": {},
     "output_type": "execute_result"
    }
   ],
   "source": [
    "elm_xor.predict(np.array([1,0]))"
   ]
  },
  {
   "cell_type": "code",
   "execution_count": 11,
   "id": "4ab1dbd1-05c1-4114-9dcd-165c9ce2c2c6",
   "metadata": {},
   "outputs": [
    {
     "data": {
      "text/plain": [
       "-0.0"
      ]
     },
     "execution_count": 11,
     "metadata": {},
     "output_type": "execute_result"
    }
   ],
   "source": [
    "elm_xor.predict(np.array([0,0]))"
   ]
  },
  {
   "cell_type": "code",
   "execution_count": null,
   "id": "d49ec1a8-f3bb-42f2-a231-85980b87bff7",
   "metadata": {},
   "outputs": [],
   "source": []
  }
 ],
 "metadata": {
  "kernelspec": {
   "display_name": "Python 3 (ipykernel)",
   "language": "python",
   "name": "python3"
  },
  "language_info": {
   "codemirror_mode": {
    "name": "ipython",
    "version": 3
   },
   "file_extension": ".py",
   "mimetype": "text/x-python",
   "name": "python",
   "nbconvert_exporter": "python",
   "pygments_lexer": "ipython3",
   "version": "3.9.6"
  }
 },
 "nbformat": 4,
 "nbformat_minor": 5
}
