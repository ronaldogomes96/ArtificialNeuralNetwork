{
 "cells": [
  {
   "cell_type": "code",
   "execution_count": 1,
   "id": "14cbb9fe-a9bb-4064-bc18-0435c8515dc4",
   "metadata": {},
   "outputs": [],
   "source": [
    "import numpy as np\n",
    "from RBF import RBF"
   ]
  },
  {
   "cell_type": "code",
   "execution_count": 2,
   "id": "2da06c6a-7213-40b5-894c-b9391c5c3ed0",
   "metadata": {},
   "outputs": [],
   "source": [
    "x = np.array([[0, 0],\n",
    "              [0, 1],\n",
    "              [1, 0],\n",
    "              [1, 1]])\n",
    "y_nand = np.array([1, 1, 1, 0])\n",
    "y_nor = np.array([1, 0, 0, 0])\n",
    "y_xor = np.array([0, 1, 1, 0])\n",
    "x_input = np.array([[0], [1], [2], [3], [4], [5], [6], [7], [8], [9]])\n",
    "y_output = np.array([[9], [10], [19], [21], [22], [25], [39], [40], [41], [47]])"
   ]
  },
  {
   "cell_type": "markdown",
   "id": "f56af852-c3ad-43fc-9643-c3a0bdbda7d4",
   "metadata": {},
   "source": [
    "# Atividade 13\n",
    "\n",
    "## 1 - Implemente a RNA RBF com as seguintes saídas e entradas do problema de classificação da porta NAND?"
   ]
  },
  {
   "cell_type": "code",
   "execution_count": 3,
   "id": "24150ade-f832-4dc8-b8af-719c681f45d1",
   "metadata": {},
   "outputs": [
    {
     "name": "stderr",
     "output_type": "stream",
     "text": [
      "/Users/ronaldogomes/Desktop/ArtificialNeuralNetwork/venv/lib/python3.9/site-packages/sklearn/cluster/_kmeans.py:1412: FutureWarning: The default value of `n_init` will change from 10 to 'auto' in 1.4. Set the value of `n_init` explicitly to suppress the warning\n",
      "  super()._check_params_vs_input(X, default_n_init=10)\n"
     ]
    },
    {
     "data": {
      "text/plain": [
       "1.0"
      ]
     },
     "execution_count": 3,
     "metadata": {},
     "output_type": "execute_result"
    }
   ],
   "source": [
    "rbf_nand = RBF(4)\n",
    "rbf_nand.fit(x, y_nand)\n",
    "rbf_nand.predict_classification(np.array([[0,0]]))[0]"
   ]
  },
  {
   "cell_type": "code",
   "execution_count": 4,
   "id": "b808e93b-671e-4abf-8f8f-c3ae9364b939",
   "metadata": {},
   "outputs": [
    {
     "data": {
      "text/plain": [
       "1.0"
      ]
     },
     "execution_count": 4,
     "metadata": {},
     "output_type": "execute_result"
    }
   ],
   "source": [
    "rbf_nand.predict_classification(np.array([[1,0]]))[0]"
   ]
  },
  {
   "cell_type": "code",
   "execution_count": 5,
   "id": "b7b40b51-bd10-49ac-b24e-4d3e2b02fb80",
   "metadata": {},
   "outputs": [
    {
     "data": {
      "text/plain": [
       "0.0"
      ]
     },
     "execution_count": 5,
     "metadata": {},
     "output_type": "execute_result"
    }
   ],
   "source": [
    "rbf_nand.predict_classification(np.array([[1,1]]))[0]"
   ]
  },
  {
   "cell_type": "markdown",
   "id": "db655488-0046-491c-9d78-ea19a452a6cd",
   "metadata": {},
   "source": [
    "## 2 - Implemente a RNA RBF com as seguintes saídas e entradas do problema de regressão abaixo?\n",
    "## Entradas: [0; 1; 2; 3; 4; 5; 6; 7; 8; 9].\n",
    "## Saídas: [9; 10; 19; 21; 22; 25; 39; 40; 41; 47]."
   ]
  },
  {
   "cell_type": "code",
   "execution_count": null,
   "outputs": [],
   "source": [
    "rbf_regression = RBFNNRegression(4)\n",
    "rbf_regression.fit(x_input, y_output)\n",
    "rbf_regression.predict_regression(np.array(x_input))"
   ],
   "metadata": {
    "collapsed": false
   },
   "id": "ddc592bd7d7843cd"
  },
  {
   "cell_type": "code",
   "execution_count": null,
   "outputs": [],
   "source": [
    "rbf_regression.predict_regression(np.array([[15]]))"
   ],
   "metadata": {
    "collapsed": false
   },
   "id": "f0216e9b724fe901"
  },
  {
   "cell_type": "markdown",
   "id": "6318e8f4-554b-403b-8878-6c22f893d4d6",
   "metadata": {},
   "source": [
    "## 3 - Implemente a RNA RBF com as seguintes saídas e entradas do problema de classificação da porta NOR?"
   ]
  },
  {
   "cell_type": "code",
   "execution_count": 8,
   "id": "114fd698-791c-4136-8bcb-09fe0352efbe",
   "metadata": {},
   "outputs": [
    {
     "name": "stderr",
     "output_type": "stream",
     "text": [
      "/Users/ronaldogomes/Desktop/ArtificialNeuralNetwork/venv/lib/python3.9/site-packages/sklearn/cluster/_kmeans.py:1412: FutureWarning: The default value of `n_init` will change from 10 to 'auto' in 1.4. Set the value of `n_init` explicitly to suppress the warning\n",
      "  super()._check_params_vs_input(X, default_n_init=10)\n"
     ]
    },
    {
     "data": {
      "text/plain": [
       "1.0"
      ]
     },
     "execution_count": 8,
     "metadata": {},
     "output_type": "execute_result"
    }
   ],
   "source": [
    "rbf_nor = RBF(4)\n",
    "rbf_nor.fit(x, y_nor)\n",
    "rbf_nor.predict_classification(np.array([[0,0]]))[0]"
   ]
  },
  {
   "cell_type": "code",
   "execution_count": 9,
   "id": "717a1002-66e0-470c-89f7-93214be7f1e5",
   "metadata": {},
   "outputs": [
    {
     "data": {
      "text/plain": [
       "0.0"
      ]
     },
     "execution_count": 9,
     "metadata": {},
     "output_type": "execute_result"
    }
   ],
   "source": [
    "rbf_nor.predict_classification(np.array([[0,1]]))[0]"
   ]
  },
  {
   "cell_type": "code",
   "execution_count": 10,
   "id": "c0832b5e-ed38-404a-aeb7-504984191820",
   "metadata": {},
   "outputs": [
    {
     "data": {
      "text/plain": [
       "0.0"
      ]
     },
     "execution_count": 10,
     "metadata": {},
     "output_type": "execute_result"
    }
   ],
   "source": [
    "rbf_nor.predict_classification(np.array([[1,1]]))[0]"
   ]
  },
  {
   "cell_type": "markdown",
   "id": "e5c38864-a9de-4a98-91f3-3cf89e7b459a",
   "metadata": {},
   "source": [
    "## 4 - Implemente a RNA RBF com as seguintes saídas e entradas do problema de classificação da porta XOR?"
   ]
  },
  {
   "cell_type": "code",
   "execution_count": 11,
   "id": "0f6898c5-597c-45d3-828a-c3ab9531f8d2",
   "metadata": {},
   "outputs": [
    {
     "name": "stderr",
     "output_type": "stream",
     "text": [
      "/Users/ronaldogomes/Desktop/ArtificialNeuralNetwork/venv/lib/python3.9/site-packages/sklearn/cluster/_kmeans.py:1412: FutureWarning: The default value of `n_init` will change from 10 to 'auto' in 1.4. Set the value of `n_init` explicitly to suppress the warning\n",
      "  super()._check_params_vs_input(X, default_n_init=10)\n"
     ]
    },
    {
     "data": {
      "text/plain": [
       "0.0"
      ]
     },
     "execution_count": 11,
     "metadata": {},
     "output_type": "execute_result"
    }
   ],
   "source": [
    "rbf_xor = RBF(4)\n",
    "rbf_xor.fit(x, y_xor)\n",
    "rbf_xor.predict_classification(np.array([[0,0]]))[0]"
   ]
  },
  {
   "cell_type": "code",
   "execution_count": 12,
   "id": "853b7f30-24a7-43f3-a5d0-b509a14b374d",
   "metadata": {},
   "outputs": [
    {
     "data": {
      "text/plain": [
       "1.0"
      ]
     },
     "execution_count": 12,
     "metadata": {},
     "output_type": "execute_result"
    }
   ],
   "source": [
    "rbf_xor.predict_classification(np.array([[1,0]]))[0]"
   ]
  },
  {
   "cell_type": "code",
   "execution_count": 13,
   "id": "99ed413a-ef9a-4161-bbdc-1c19c537117a",
   "metadata": {},
   "outputs": [
    {
     "data": {
      "text/plain": [
       "0.0"
      ]
     },
     "execution_count": 13,
     "metadata": {},
     "output_type": "execute_result"
    }
   ],
   "source": [
    "rbf_xor.predict_classification(np.array([[1,1]]))[0]"
   ]
  },
  {
   "cell_type": "code",
   "execution_count": 14,
   "id": "eeb015d6-4b58-4c9a-a404-095cab9fef18",
   "metadata": {},
   "outputs": [
    {
     "data": {
      "text/plain": [
       "1.0"
      ]
     },
     "execution_count": 14,
     "metadata": {},
     "output_type": "execute_result"
    }
   ],
   "source": [
    "rbf_xor.predict_classification(np.array([[0,1]]))[0]"
   ]
  },
  {
   "cell_type": "code",
   "execution_count": null,
   "id": "8df480f1-c7fe-4e40-b2dd-d121615101a6",
   "metadata": {},
   "outputs": [],
   "source": []
  }
 ],
 "metadata": {
  "kernelspec": {
   "display_name": "Python 3 (ipykernel)",
   "language": "python",
   "name": "python3"
  },
  "language_info": {
   "codemirror_mode": {
    "name": "ipython",
    "version": 3
   },
   "file_extension": ".py",
   "mimetype": "text/x-python",
   "name": "python",
   "nbconvert_exporter": "python",
   "pygments_lexer": "ipython3",
   "version": "3.9.6"
  }
 },
 "nbformat": 4,
 "nbformat_minor": 5
}
