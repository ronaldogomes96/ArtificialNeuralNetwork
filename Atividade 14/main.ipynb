{
 "cells": [
  {
   "cell_type": "code",
   "execution_count": 1,
   "id": "88fbbda2-0b5b-484a-b0a9-63da6b3ad86f",
   "metadata": {},
   "outputs": [
    {
     "name": "stderr",
     "output_type": "stream",
     "text": [
      "2023-12-10 17:14:20.674777: I tensorflow/core/platform/cpu_feature_guard.cc:182] This TensorFlow binary is optimized to use available CPU instructions in performance-critical operations.\n",
      "To enable the following instructions: AVX2 FMA, in other operations, rebuild TensorFlow with the appropriate compiler flags.\n",
      "/Users/ronaldogomes/Desktop/ArtificialNeuralNetwork/venv/lib/python3.9/site-packages/urllib3/__init__.py:34: NotOpenSSLWarning: urllib3 v2.0 only supports OpenSSL 1.1.1+, currently the 'ssl' module is compiled with 'LibreSSL 2.8.3'. See: https://github.com/urllib3/urllib3/issues/3020\n",
      "  warnings.warn(\n"
     ]
    }
   ],
   "source": [
    "from ELMBreastCancer import ELMBreastCancer\n",
    "from CNNBreastCancer import CNNBreastCancer"
   ]
  },
  {
   "cell_type": "markdown",
   "id": "ae356f87-6a4c-44fb-8a47-420f90a81752",
   "metadata": {},
   "source": [
    "# Atividade 14\n",
    "\n",
    "## 4 - Implemente a rede CNN com base no código que está no drive (podendo usar bibliotecas do python) usando a base de dados câncer de mama, disponível no link abaixo:\n",
    "## https://archive.ics.uci.edu/ml/datasets/Breast+Cancer+Wisconsin+%28Diagnostic%29\n",
    "## *Usar a validação cruzada hold-out de 65% para treino e 35% para teste."
   ]
  },
  {
   "cell_type": "code",
   "execution_count": 3,
   "id": "c82fd0d3-5ef9-4acb-85a6-dd53dd3f0381",
   "metadata": {},
   "outputs": [
    {
     "name": "stdout",
     "output_type": "stream",
     "text": [
      "Epoch 1/2\n"
     ]
    },
    {
     "name": "stderr",
     "output_type": "stream",
     "text": [
      "/Users/ronaldogomes/Desktop/ArtificialNeuralNetwork/venv/lib/python3.9/site-packages/tensorflow/python/util/dispatch.py:1260: SyntaxWarning: In loss categorical_crossentropy, expected y_pred.shape to be (batch_size, num_classes) with num_classes > 1. Received: y_pred.shape=(None, 1). Consider using 'binary_crossentropy' if you only have 2 classes.\n",
      "  return dispatch_target(*args, **kwargs)\n"
     ]
    },
    {
     "name": "stdout",
     "output_type": "stream",
     "text": [
      "10/10 - 1s - loss: 0.0000e+00 - accuracy: 0.6203 - val_loss: 0.0000e+00 - val_accuracy: 0.6622 - 817ms/epoch - 82ms/step\n",
      "Epoch 2/2\n",
      "10/10 - 0s - loss: 0.0000e+00 - accuracy: 0.6203 - val_loss: 0.0000e+00 - val_accuracy: 0.6622 - 47ms/epoch - 5ms/step\n",
      "7/7 [==============================] - 0s 2ms/step - loss: 0.0000e+00 - accuracy: 0.6250\n",
      "Test loss:  0.0\n",
      "Test Accuracy:  0.625\n"
     ]
    }
   ],
   "source": [
    "cnn = CNNBreastCancer()\n",
    "cnn.fit_predict()"
   ]
  },
  {
   "cell_type": "markdown",
   "id": "42e4d7bc-4c30-43e5-aea3-d8daa0fd19ab",
   "metadata": {},
   "source": [
    "## 5 - Implemente a rede ELM com a mesma base da questão 4(câncer de mama), usando a normalização \"zscore\" e validação \"hold-out\" com 70% para treino e 30% para teste?"
   ]
  },
  {
   "cell_type": "code",
   "execution_count": 7,
   "id": "db101ddb-73c8-4473-8c15-4d6ca61663fb",
   "metadata": {},
   "outputs": [
    {
     "name": "stdout",
     "output_type": "stream",
     "text": [
      "0.9239766081871345\n"
     ]
    }
   ],
   "source": [
    "elm = ELMBreastCancer()\n",
    "elm.fit_predict()"
   ]
  },
  {
   "cell_type": "code",
   "execution_count": null,
   "id": "daa37c4f-45e7-4782-95ea-e65f432f35e9",
   "metadata": {},
   "outputs": [],
   "source": []
  }
 ],
 "metadata": {
  "kernelspec": {
   "display_name": "Python 3 (ipykernel)",
   "language": "python",
   "name": "python3"
  },
  "language_info": {
   "codemirror_mode": {
    "name": "ipython",
    "version": 3
   },
   "file_extension": ".py",
   "mimetype": "text/x-python",
   "name": "python",
   "nbconvert_exporter": "python",
   "pygments_lexer": "ipython3",
   "version": "3.9.6"
  }
 },
 "nbformat": 4,
 "nbformat_minor": 5
}
