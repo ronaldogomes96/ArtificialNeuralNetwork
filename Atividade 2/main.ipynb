{
 "cells": [
  {
   "cell_type": "code",
   "execution_count": 1,
   "id": "00384100-087f-4a2e-8cae-c7df68c2e2ac",
   "metadata": {},
   "outputs": [],
   "source": [
    "from Perceptron import Perceptron\n",
    "import numpy as np\n",
    "\n",
    "x = np.array([[0, 0],\n",
    "              [0, 1],\n",
    "              [1, 0],\n",
    "              [1, 1] ])\n",
    "\n",
    "y_and = np.array([0, 0, 0, 1])\n",
    "y_nor = np.array([1, 0, 0, 0])\n",
    "y_nand = np.array([1, 1, 1, 0])\n",
    "y_or = np.array([0, 1, 1, 1])"
   ]
  },
  {
   "cell_type": "markdown",
   "id": "399a356d-5c92-4353-9718-dba0cad0be18",
   "metadata": {},
   "source": [
    "# Atividade 2 de RNA\n",
    "\n",
    "## 1 - Implemente a neurônio de M.P para resolver o problema da porta AND?"
   ]
  },
  {
   "cell_type": "code",
   "execution_count": 2,
   "id": "9821a625-1cb2-4411-9cef-54d98d1df61e",
   "metadata": {},
   "outputs": [
    {
     "data": {
      "text/plain": [
       "0"
      ]
     },
     "execution_count": 2,
     "metadata": {},
     "output_type": "execute_result"
    }
   ],
   "source": [
    "perceptron_and = Perceptron()\n",
    "perceptron_and.train(x, y_and)\n",
    "perceptron_and.test([0, 0])"
   ]
  },
  {
   "cell_type": "code",
   "execution_count": 3,
   "id": "0c6c0560-e449-496b-b64f-99ce9bb9e768",
   "metadata": {},
   "outputs": [
    {
     "data": {
      "text/plain": [
       "1"
      ]
     },
     "execution_count": 3,
     "metadata": {},
     "output_type": "execute_result"
    }
   ],
   "source": [
    "perceptron_and.test([1, 1])"
   ]
  },
  {
   "cell_type": "code",
   "execution_count": 4,
   "id": "56213d0e-d354-4051-b684-01a5eb0fc4e2",
   "metadata": {},
   "outputs": [
    {
     "data": {
      "text/plain": [
       "0"
      ]
     },
     "execution_count": 4,
     "metadata": {},
     "output_type": "execute_result"
    }
   ],
   "source": [
    "perceptron_and.test([0, 1])"
   ]
  },
  {
   "cell_type": "markdown",
   "id": "0648b75d-29da-476b-afa1-74b178ec380b",
   "metadata": {},
   "source": [
    "## 2 - Implemente a perceptron simples para resolver o problema da porta NOR?"
   ]
  },
  {
   "cell_type": "code",
   "execution_count": 5,
   "id": "1113ea2f-3a95-4b29-80a3-e33b7b773328",
   "metadata": {},
   "outputs": [
    {
     "data": {
      "text/plain": [
       "1"
      ]
     },
     "execution_count": 5,
     "metadata": {},
     "output_type": "execute_result"
    }
   ],
   "source": [
    "perceptron_nor = Perceptron()\n",
    "perceptron_nor.train(x, y_nor)\n",
    "perceptron_nor.test([0, 0])"
   ]
  },
  {
   "cell_type": "code",
   "execution_count": 6,
   "id": "e827b97d-b4e5-4d99-a18e-9004d4e07bf2",
   "metadata": {},
   "outputs": [
    {
     "data": {
      "text/plain": [
       "0"
      ]
     },
     "execution_count": 6,
     "metadata": {},
     "output_type": "execute_result"
    }
   ],
   "source": [
    "perceptron_nor.test([1, 1])"
   ]
  },
  {
   "cell_type": "code",
   "execution_count": 7,
   "id": "06839ba3-6847-4115-b3d6-d41576a10743",
   "metadata": {},
   "outputs": [
    {
     "data": {
      "text/plain": [
       "0"
      ]
     },
     "execution_count": 7,
     "metadata": {},
     "output_type": "execute_result"
    }
   ],
   "source": [
    "perceptron_nor.test([0, 1])"
   ]
  },
  {
   "cell_type": "markdown",
   "id": "1f91d2d9-b11a-43f7-9b88-a52315ac28f8",
   "metadata": {},
   "source": [
    "## 3 - Implemente a perceptron simples para resolver o problema da porta NAND?"
   ]
  },
  {
   "cell_type": "code",
   "execution_count": 8,
   "id": "b53fbd04-386e-4154-899a-3eb8af759a9d",
   "metadata": {},
   "outputs": [
    {
     "data": {
      "text/plain": [
       "1"
      ]
     },
     "execution_count": 8,
     "metadata": {},
     "output_type": "execute_result"
    }
   ],
   "source": [
    "perceptron_nand = Perceptron()\n",
    "perceptron_nand.train(x, y_nand)\n",
    "perceptron_nand.test([0, 0])"
   ]
  },
  {
   "cell_type": "code",
   "execution_count": 9,
   "id": "6a9b9e69-9b47-496e-be7a-e99ed924f88b",
   "metadata": {},
   "outputs": [
    {
     "data": {
      "text/plain": [
       "0"
      ]
     },
     "execution_count": 9,
     "metadata": {},
     "output_type": "execute_result"
    }
   ],
   "source": [
    "perceptron_nand.test([1, 1])"
   ]
  },
  {
   "cell_type": "code",
   "execution_count": 10,
   "id": "3f6ef7cb-0136-4c26-8566-bb33cd83ecbb",
   "metadata": {},
   "outputs": [
    {
     "data": {
      "text/plain": [
       "1"
      ]
     },
     "execution_count": 10,
     "metadata": {},
     "output_type": "execute_result"
    }
   ],
   "source": [
    "perceptron_nand.test([1, 0])"
   ]
  },
  {
   "cell_type": "markdown",
   "id": "06485620-ba29-453b-be3c-e99268873dfa",
   "metadata": {},
   "source": [
    "## 4 - Implemente a perceptron simples para resolver o problema da porta OR?"
   ]
  },
  {
   "cell_type": "code",
   "execution_count": 11,
   "id": "cd2a6527-4db6-44f4-b54e-51b9c546c2fd",
   "metadata": {},
   "outputs": [
    {
     "data": {
      "text/plain": [
       "0"
      ]
     },
     "execution_count": 11,
     "metadata": {},
     "output_type": "execute_result"
    }
   ],
   "source": [
    "perceptron_or = Perceptron()\n",
    "perceptron_or.train(x, y_or)\n",
    "perceptron_or.test([0, 0])"
   ]
  },
  {
   "cell_type": "code",
   "execution_count": 12,
   "id": "38215e86-bb02-47e6-b813-267b9a4c1bd3",
   "metadata": {},
   "outputs": [
    {
     "data": {
      "text/plain": [
       "1"
      ]
     },
     "execution_count": 12,
     "metadata": {},
     "output_type": "execute_result"
    }
   ],
   "source": [
    "perceptron_or.test([1, 1])"
   ]
  },
  {
   "cell_type": "code",
   "execution_count": 13,
   "id": "cfdf0cfc-fbda-4157-8c2e-f4bc1edc225d",
   "metadata": {},
   "outputs": [
    {
     "data": {
      "text/plain": [
       "1"
      ]
     },
     "execution_count": 13,
     "metadata": {},
     "output_type": "execute_result"
    }
   ],
   "source": [
    "perceptron_or.test([1, 0])"
   ]
  },
  {
   "cell_type": "code",
   "execution_count": null,
   "id": "f683ae84-c595-47cd-80a6-9cd01d94f164",
   "metadata": {},
   "outputs": [],
   "source": []
  }
 ],
 "metadata": {
  "kernelspec": {
   "display_name": "Python 3 (ipykernel)",
   "language": "python",
   "name": "python3"
  },
  "language_info": {
   "codemirror_mode": {
    "name": "ipython",
    "version": 3
   },
   "file_extension": ".py",
   "mimetype": "text/x-python",
   "name": "python",
   "nbconvert_exporter": "python",
   "pygments_lexer": "ipython3",
   "version": "3.9.6"
  }
 },
 "nbformat": 4,
 "nbformat_minor": 5
}
