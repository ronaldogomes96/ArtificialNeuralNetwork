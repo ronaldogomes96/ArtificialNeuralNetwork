{
 "cells": [
  {
   "cell_type": "code",
   "execution_count": 1,
   "id": "7cddead9-eb9d-4a6b-bc5f-b6e8ff79356c",
   "metadata": {},
   "outputs": [],
   "source": [
    "from Adaline import Adaline\n",
    "import numpy as np\n",
    "\n",
    "x = np.array([[0, 0],\n",
    "              [0, 1],\n",
    "              [1, 0],\n",
    "              [1, 1] ])\n",
    "\n",
    "y_nor = np.array([1, -1, -1, -1])\n",
    "y_nand = np.array([1, 1, 1, -1])\n",
    "y_or = np.array([-1, 1, 1, 1])"
   ]
  },
  {
   "cell_type": "markdown",
   "id": "d2274c02-13bc-4d30-8d51-4983ce157a4e",
   "metadata": {},
   "source": [
    "# Atividade 4 de RNA\n",
    "\n",
    "## 1 - Implemente uma RNA Adaline para solução do problema NAND; considerando 2 entradas, apenas. PS: O código pode ser feito em uma linguagem de sua preferencia, por tanto que esteja comentado?"
   ]
  },
  {
   "cell_type": "code",
   "execution_count": 2,
   "id": "e3f10cbe-6402-4525-91bf-4e9f44f372b8",
   "metadata": {},
   "outputs": [
    {
     "data": {
      "text/plain": [
       "1"
      ]
     },
     "execution_count": 2,
     "metadata": {},
     "output_type": "execute_result"
    }
   ],
   "source": [
    "adaline_nand = Adaline()\n",
    "adaline_nand.train(x, y_nand)\n",
    "adaline_nand.test([0, 0])"
   ]
  },
  {
   "cell_type": "code",
   "execution_count": 3,
   "id": "16d0e6d4-8da2-4c4d-9efd-dceb32173bf9",
   "metadata": {},
   "outputs": [
    {
     "data": {
      "text/plain": [
       "-1"
      ]
     },
     "execution_count": 3,
     "metadata": {},
     "output_type": "execute_result"
    }
   ],
   "source": [
    "adaline_nand.test([1, 1])"
   ]
  },
  {
   "cell_type": "code",
   "execution_count": 4,
   "id": "b74f488b-7898-4f33-aff3-18dd8b52234e",
   "metadata": {},
   "outputs": [
    {
     "data": {
      "text/plain": [
       "1"
      ]
     },
     "execution_count": 4,
     "metadata": {},
     "output_type": "execute_result"
    }
   ],
   "source": [
    "adaline_nand.test([1, 0])"
   ]
  },
  {
   "cell_type": "markdown",
   "id": "c2e18c71-0135-4406-a28c-2bfcc2dbb767",
   "metadata": {},
   "source": [
    "## 2 - Implemente uma RNA Adaline para solução do problema &quot;NOR&quot; considerando 2 entradas, apenas. PS: O código pode ser feito em uma linguagem de sua preferencia, por tanto que esteja comentado?"
   ]
  },
  {
   "cell_type": "code",
   "execution_count": 5,
   "id": "3851121e-da51-4f68-9252-da0fb518cead",
   "metadata": {},
   "outputs": [
    {
     "data": {
      "text/plain": [
       "1"
      ]
     },
     "execution_count": 5,
     "metadata": {},
     "output_type": "execute_result"
    }
   ],
   "source": [
    "adaline_nor = Adaline()\n",
    "adaline_nor.train(x, y_nor)\n",
    "adaline_nor.test([0, 0])"
   ]
  },
  {
   "cell_type": "code",
   "execution_count": 6,
   "id": "b96af827-917f-4811-b109-72deac7bcccf",
   "metadata": {},
   "outputs": [
    {
     "data": {
      "text/plain": [
       "-1"
      ]
     },
     "execution_count": 6,
     "metadata": {},
     "output_type": "execute_result"
    }
   ],
   "source": [
    "adaline_nor.test([1, 1])"
   ]
  },
  {
   "cell_type": "code",
   "execution_count": 7,
   "id": "ef83891d-d473-4613-8123-c19d8ddf3f2b",
   "metadata": {},
   "outputs": [
    {
     "data": {
      "text/plain": [
       "-1"
      ]
     },
     "execution_count": 7,
     "metadata": {},
     "output_type": "execute_result"
    }
   ],
   "source": [
    "adaline_nor.test([0, 1])"
   ]
  },
  {
   "cell_type": "markdown",
   "id": "ec2abf84-91c6-4efe-a7e4-16dbe89e30a7",
   "metadata": {},
   "source": [
    "## 3 - Implemente uma RNA Adaline para solução do problema &quot;OR&quot; considerando 3 entradas. PS: O código pode ser feito em uma linguagem de sua preferencia, por tanto que esteja comentado?"
   ]
  },
  {
   "cell_type": "code",
   "execution_count": 9,
   "id": "7b4d9fbf-8f64-4592-8f17-7fe7051bbb26",
   "metadata": {},
   "outputs": [
    {
     "data": {
      "text/plain": [
       "-1"
      ]
     },
     "execution_count": 9,
     "metadata": {},
     "output_type": "execute_result"
    }
   ],
   "source": [
    "adaline_or = Adaline()\n",
    "adaline_or.train(x, y_or)\n",
    "adaline_or.test([0, 0])"
   ]
  },
  {
   "cell_type": "code",
   "execution_count": 10,
   "id": "04ba2977-f2de-45eb-89a5-2bf6c8b60929",
   "metadata": {},
   "outputs": [
    {
     "data": {
      "text/plain": [
       "1"
      ]
     },
     "execution_count": 10,
     "metadata": {},
     "output_type": "execute_result"
    }
   ],
   "source": [
    "adaline_or.test([1, 1])"
   ]
  },
  {
   "cell_type": "code",
   "execution_count": 11,
   "id": "2c7e0491-2404-482e-97a2-6e9591c53d8b",
   "metadata": {},
   "outputs": [
    {
     "data": {
      "text/plain": [
       "1"
      ]
     },
     "execution_count": 11,
     "metadata": {},
     "output_type": "execute_result"
    }
   ],
   "source": [
    "adaline_or.test([1, 0])"
   ]
  },
  {
   "cell_type": "code",
   "execution_count": null,
   "id": "5944b5ec-0275-4887-b3ef-9f5fa38ade41",
   "metadata": {},
   "outputs": [],
   "source": []
  }
 ],
 "metadata": {
  "kernelspec": {
   "display_name": "Python 3 (ipykernel)",
   "language": "python",
   "name": "python3"
  },
  "language_info": {
   "codemirror_mode": {
    "name": "ipython",
    "version": 3
   },
   "file_extension": ".py",
   "mimetype": "text/x-python",
   "name": "python",
   "nbconvert_exporter": "python",
   "pygments_lexer": "ipython3",
   "version": "3.9.6"
  }
 },
 "nbformat": 4,
 "nbformat_minor": 5
}
