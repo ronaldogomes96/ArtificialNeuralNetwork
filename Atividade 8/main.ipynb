{
 "cells": [
  {
   "cell_type": "code",
   "execution_count": 1,
   "id": "d193d5ec-25fe-4cac-9a21-307c487d8df6",
   "metadata": {},
   "outputs": [],
   "source": [
    "from MLP import MLP\n",
    "from MLPRegression import MLPRegression\n",
    "import numpy as np\n",
    "import pandas as pd\n",
    "\n",
    "x = np.array([[0, 0, 0], [0, 0, 1], [0, 1, 0], [0, 1, 1], [1, 0, 0], [1, 0, 1], [1, 1, 0], [1, 1, 1]])\n",
    "nor_y = np.array([[0], [1], [1], [1], [1], [1], [1], [1]])\n",
    "nand_y = np.array([[1], [0], [0], [0], [0], [0], [0], [0]])\n",
    "x_regression = np.array([[0], [1], [2], [3], [4], [5], [6], [7], [8], [9]])\n",
    "y_regression = np.array([[9], [10], [19], [21], [22], [25], [39], [40], [41], [47]])"
   ]
  },
  {
   "cell_type": "markdown",
   "id": "b30d79b0-8de9-4eae-b845-8257fda11ca0",
   "metadata": {},
   "source": [
    "# Trabalho 8 – N1\n",
    "\n",
    "## 1 - Implemente uma RNA MLP com treinamento backpropagation para resolução do problema de classificação da porta NAND com 3 entradas? PS: Use a função de ativação sigmoide."
   ]
  },
  {
   "cell_type": "code",
   "execution_count": 2,
   "id": "f2ebb4bc-3bf2-4c50-aecf-f0bdb62c4360",
   "metadata": {},
   "outputs": [
    {
     "data": {
      "text/plain": [
       "0"
      ]
     },
     "execution_count": 2,
     "metadata": {},
     "output_type": "execute_result"
    }
   ],
   "source": [
    "mlp_nand = MLP(activation_function='sigmoid')\n",
    "mlp_nand.fit(x, nand_y)\n",
    "mlp_nand.predict([1, 1, 1])"
   ]
  },
  {
   "cell_type": "code",
   "execution_count": 3,
   "id": "45d02bd2-02a6-4334-910a-f43efbaae211",
   "metadata": {},
   "outputs": [
    {
     "data": {
      "text/plain": [
       "0"
      ]
     },
     "execution_count": 3,
     "metadata": {},
     "output_type": "execute_result"
    }
   ],
   "source": [
    "mlp_nand.predict([0, 1, 1])"
   ]
  },
  {
   "cell_type": "code",
   "execution_count": 4,
   "id": "26af03cb-1d15-4252-83dc-9023af55c475",
   "metadata": {},
   "outputs": [
    {
     "data": {
      "text/plain": [
       "0"
      ]
     },
     "execution_count": 4,
     "metadata": {},
     "output_type": "execute_result"
    }
   ],
   "source": [
    "mlp_nand.predict([1, 0, 0])"
   ]
  },
  {
   "cell_type": "code",
   "execution_count": 5,
   "id": "f17da200-555a-4073-85e6-4a1164ef992c",
   "metadata": {},
   "outputs": [
    {
     "data": {
      "text/plain": [
       "1"
      ]
     },
     "execution_count": 5,
     "metadata": {},
     "output_type": "execute_result"
    }
   ],
   "source": [
    "mlp_nand.predict([0, 0, 0])"
   ]
  },
  {
   "cell_type": "markdown",
   "id": "495e7e1d-0ad7-454e-a1d6-1d25f370b836",
   "metadata": {},
   "source": [
    "## 2 - Implemente uma RNA MLP com treinamento backpropagation para resolução do problema de classificação da porta NOR com 3 entradas? PS: Use a função de ativação tangente hiperbólica."
   ]
  },
  {
   "cell_type": "code",
   "execution_count": 2,
   "id": "abfada45-870a-4d89-b382-cde3a1f0acff",
   "metadata": {},
   "outputs": [
    {
     "data": {
      "text/plain": [
       "1"
      ]
     },
     "execution_count": 2,
     "metadata": {},
     "output_type": "execute_result"
    }
   ],
   "source": [
    "mlp_nor = MLP()\n",
    "mlp_nor.fit(x, nor_y)\n",
    "mlp_nor.predict([1, 1, 1])"
   ]
  },
  {
   "cell_type": "code",
   "execution_count": 3,
   "id": "4339157d-cdcc-446c-823c-570e92c0a969",
   "metadata": {},
   "outputs": [
    {
     "data": {
      "text/plain": [
       "1"
      ]
     },
     "execution_count": 3,
     "metadata": {},
     "output_type": "execute_result"
    }
   ],
   "source": [
    "mlp_nor.predict([0, 1, 1])"
   ]
  },
  {
   "cell_type": "code",
   "execution_count": 4,
   "id": "5efb4713-9b58-4fba-a4c0-2900b7706e64",
   "metadata": {},
   "outputs": [
    {
     "data": {
      "text/plain": [
       "1"
      ]
     },
     "execution_count": 4,
     "metadata": {},
     "output_type": "execute_result"
    }
   ],
   "source": [
    "mlp_nor.predict([1, 0, 0])"
   ]
  },
  {
   "cell_type": "code",
   "execution_count": 5,
   "id": "ab66e313-09b2-4a72-b690-fc8012c18a29",
   "metadata": {},
   "outputs": [
    {
     "data": {
      "text/plain": [
       "0"
      ]
     },
     "execution_count": 5,
     "metadata": {},
     "output_type": "execute_result"
    }
   ],
   "source": [
    "mlp_nor.predict([0, 0, 0])"
   ]
  },
  {
   "cell_type": "markdown",
   "id": "c04690a2-4e00-48b8-b7d4-4766c22ff965",
   "metadata": {},
   "source": [
    "## 3 - Implemente uma RNA MLP com treinamento backpropagation com as seguintes entradas e saídas do problema de regressão abaixo? PS: Use a função de ativação sigmoide.\n",
    "## Entradas: [0; 1; 2; 3; 4; 5; 6; 7; 8; 9].\n",
    "## Saídas: [9; 10; 19; 21; 22; 25; 39; 40; 41; 47]."
   ]
  },
  {
   "cell_type": "code",
   "execution_count": 31,
   "id": "bb322d33-29fb-4e40-a8bc-ef13bdb7c8dc",
   "metadata": {},
   "outputs": [
    {
     "data": {
      "text/plain": [
       "array([[ 6.88723181],\n",
       "       [12.1536906 ],\n",
       "       [17.29392943],\n",
       "       [22.19489758],\n",
       "       [26.76623043],\n",
       "       [30.94478003],\n",
       "       [34.69486616],\n",
       "       [38.00555124],\n",
       "       [40.88613337],\n",
       "       [43.36087822]])"
      ]
     },
     "execution_count": 31,
     "metadata": {},
     "output_type": "execute_result"
    }
   ],
   "source": [
    "mlp_regr_sigmoid = MLPRegression(hidden_layer_neurons=30, learning_rate=0.0001, activation_function='sigmoid')\n",
    "mlp_regr_sigmoid.fit(x_regression, y_regression)\n",
    "mlp_regr_sigmoid.predict(x_regression)"
   ]
  },
  {
   "cell_type": "code",
   "execution_count": 32,
   "id": "4da6e3a8-7a8b-4df6-b0a9-9d79d3e55b4d",
   "metadata": {},
   "outputs": [
    {
     "data": {
      "text/plain": [
       "array([[45.46382235]])"
      ]
     },
     "execution_count": 32,
     "metadata": {},
     "output_type": "execute_result"
    }
   ],
   "source": [
    "mlp_regr_sigmoid.predict([[10]])"
   ]
  },
  {
   "cell_type": "markdown",
   "id": "9ad7c036-6883-4621-9cad-7bd8ca30ee1b",
   "metadata": {},
   "source": [
    "## 4 - Repita o passo da “questão 3” com a função de ativação tangente hiperbólica?"
   ]
  },
  {
   "cell_type": "code",
   "execution_count": 33,
   "id": "4d9c2dd4-072c-496c-b79a-b5c485c913ad",
   "metadata": {},
   "outputs": [
    {
     "data": {
      "text/plain": [
       "array([[ 0.        ],\n",
       "       [15.92273766],\n",
       "       [24.29423845],\n",
       "       [28.66589175],\n",
       "       [31.37439841],\n",
       "       [33.23533912],\n",
       "       [34.58072329],\n",
       "       [35.57961943],\n",
       "       [36.3326418 ],\n",
       "       [36.90558199]])"
      ]
     },
     "execution_count": 33,
     "metadata": {},
     "output_type": "execute_result"
    }
   ],
   "source": [
    "mlp_regr_tangent = MLPRegression(number_of_epochs=1000, hidden_layer_neurons=100, learning_rate=0.00001)\n",
    "mlp_regr_tangent.fit(x_regression, y_regression)\n",
    "mlp_regr_tangent.predict(x_regression)"
   ]
  },
  {
   "cell_type": "code",
   "execution_count": null,
   "id": "c5d333ac-eec4-4487-81bf-579d655a606a",
   "metadata": {},
   "outputs": [],
   "source": []
  },
  {
   "cell_type": "code",
   "execution_count": null,
   "id": "3a3d73d1-6504-49b6-ab9c-b0eefc3ef746",
   "metadata": {},
   "outputs": [],
   "source": []
  }
 ],
 "metadata": {
  "kernelspec": {
   "display_name": "Python 3 (ipykernel)",
   "language": "python",
   "name": "python3"
  },
  "language_info": {
   "codemirror_mode": {
    "name": "ipython",
    "version": 3
   },
   "file_extension": ".py",
   "mimetype": "text/x-python",
   "name": "python",
   "nbconvert_exporter": "python",
   "pygments_lexer": "ipython3",
   "version": "3.9.6"
  }
 },
 "nbformat": 4,
 "nbformat_minor": 5
}
